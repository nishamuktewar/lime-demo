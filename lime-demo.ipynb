{
 "cells": [
  {
   "cell_type": "code",
   "execution_count": 1,
   "metadata": {},
   "outputs": [],
   "source": [
    "from __future__ import print_function\n",
    "\n",
    "import lime\n",
    "import lime.lime_tabular\n",
    "import sklearn\n",
    "import numpy as np\n",
    "import pandas as pd\n",
    "import sklearn\n",
    "import sklearn.ensemble\n",
    "import sklearn.metrics\n",
    "import scipy.io\n",
    "\n",
    "np.random.seed(1)\n",
    "%matplotlib inline\n",
    "import matplotlib.pyplot as plt"
   ]
  },
  {
   "cell_type": "markdown",
   "metadata": {},
   "source": [
    "## Loading data\n",
    "Breast Cancer Wisconsin (Diagnostic) Data Set Predict whether the cancer is benign or malignant"
   ]
  },
  {
   "cell_type": "code",
   "execution_count": 2,
   "metadata": {},
   "outputs": [
    {
     "data": {
      "text/html": [
       "<div>\n",
       "<style scoped>\n",
       "    .dataframe tbody tr th:only-of-type {\n",
       "        vertical-align: middle;\n",
       "    }\n",
       "\n",
       "    .dataframe tbody tr th {\n",
       "        vertical-align: top;\n",
       "    }\n",
       "\n",
       "    .dataframe thead th {\n",
       "        text-align: right;\n",
       "    }\n",
       "</style>\n",
       "<table border=\"1\" class=\"dataframe\">\n",
       "  <thead>\n",
       "    <tr style=\"text-align: right;\">\n",
       "      <th></th>\n",
       "      <th>radius_mean</th>\n",
       "      <th>texture_mean</th>\n",
       "      <th>perimeter_mean</th>\n",
       "      <th>area_mean</th>\n",
       "      <th>smoothness_mean</th>\n",
       "      <th>compactness_mean</th>\n",
       "      <th>concavity_mean</th>\n",
       "      <th>concave.points_mean</th>\n",
       "      <th>symmetry_mean</th>\n",
       "      <th>fractal_dimension_mean</th>\n",
       "      <th>...</th>\n",
       "      <th>texture_worst</th>\n",
       "      <th>perimeter_worst</th>\n",
       "      <th>area_worst</th>\n",
       "      <th>smoothness_worst</th>\n",
       "      <th>compactness_worst</th>\n",
       "      <th>concavity_worst</th>\n",
       "      <th>concave.points_worst</th>\n",
       "      <th>symmetry_worst</th>\n",
       "      <th>fractal_dimension_worst</th>\n",
       "      <th>outlier</th>\n",
       "    </tr>\n",
       "  </thead>\n",
       "  <tbody>\n",
       "    <tr>\n",
       "      <th>0</th>\n",
       "      <td>0.310426</td>\n",
       "      <td>0.157254</td>\n",
       "      <td>0.301776</td>\n",
       "      <td>0.179343</td>\n",
       "      <td>0.407692</td>\n",
       "      <td>0.189896</td>\n",
       "      <td>0.156139</td>\n",
       "      <td>0.237624</td>\n",
       "      <td>0.416667</td>\n",
       "      <td>0.162174</td>\n",
       "      <td>...</td>\n",
       "      <td>0.192964</td>\n",
       "      <td>0.245480</td>\n",
       "      <td>0.129276</td>\n",
       "      <td>0.480948</td>\n",
       "      <td>0.145540</td>\n",
       "      <td>0.190895</td>\n",
       "      <td>0.442612</td>\n",
       "      <td>0.278336</td>\n",
       "      <td>0.115112</td>\n",
       "      <td>0.0</td>\n",
       "    </tr>\n",
       "    <tr>\n",
       "      <th>1</th>\n",
       "      <td>0.288655</td>\n",
       "      <td>0.202908</td>\n",
       "      <td>0.289130</td>\n",
       "      <td>0.159703</td>\n",
       "      <td>0.495351</td>\n",
       "      <td>0.330102</td>\n",
       "      <td>0.107029</td>\n",
       "      <td>0.154573</td>\n",
       "      <td>0.458081</td>\n",
       "      <td>0.382266</td>\n",
       "      <td>...</td>\n",
       "      <td>0.225746</td>\n",
       "      <td>0.227501</td>\n",
       "      <td>0.109443</td>\n",
       "      <td>0.396421</td>\n",
       "      <td>0.242852</td>\n",
       "      <td>0.150958</td>\n",
       "      <td>0.250275</td>\n",
       "      <td>0.319141</td>\n",
       "      <td>0.175718</td>\n",
       "      <td>0.0</td>\n",
       "    </tr>\n",
       "    <tr>\n",
       "      <th>2</th>\n",
       "      <td>0.119409</td>\n",
       "      <td>0.092323</td>\n",
       "      <td>0.114367</td>\n",
       "      <td>0.055313</td>\n",
       "      <td>0.449309</td>\n",
       "      <td>0.139685</td>\n",
       "      <td>0.069260</td>\n",
       "      <td>0.103181</td>\n",
       "      <td>0.381313</td>\n",
       "      <td>0.402064</td>\n",
       "      <td>...</td>\n",
       "      <td>0.097015</td>\n",
       "      <td>0.073310</td>\n",
       "      <td>0.031877</td>\n",
       "      <td>0.404345</td>\n",
       "      <td>0.084903</td>\n",
       "      <td>0.070823</td>\n",
       "      <td>0.213986</td>\n",
       "      <td>0.174453</td>\n",
       "      <td>0.148826</td>\n",
       "      <td>0.0</td>\n",
       "    </tr>\n",
       "    <tr>\n",
       "      <th>3</th>\n",
       "      <td>0.286289</td>\n",
       "      <td>0.294555</td>\n",
       "      <td>0.268261</td>\n",
       "      <td>0.161315</td>\n",
       "      <td>0.335831</td>\n",
       "      <td>0.056070</td>\n",
       "      <td>0.060028</td>\n",
       "      <td>0.145278</td>\n",
       "      <td>0.205556</td>\n",
       "      <td>0.182603</td>\n",
       "      <td>...</td>\n",
       "      <td>0.287580</td>\n",
       "      <td>0.169580</td>\n",
       "      <td>0.088650</td>\n",
       "      <td>0.170640</td>\n",
       "      <td>0.018337</td>\n",
       "      <td>0.038602</td>\n",
       "      <td>0.172268</td>\n",
       "      <td>0.083185</td>\n",
       "      <td>0.043618</td>\n",
       "      <td>0.0</td>\n",
       "    </tr>\n",
       "    <tr>\n",
       "      <th>4</th>\n",
       "      <td>0.057504</td>\n",
       "      <td>0.241123</td>\n",
       "      <td>0.054730</td>\n",
       "      <td>0.024772</td>\n",
       "      <td>0.301255</td>\n",
       "      <td>0.122845</td>\n",
       "      <td>0.037207</td>\n",
       "      <td>0.029409</td>\n",
       "      <td>0.358081</td>\n",
       "      <td>0.317397</td>\n",
       "      <td>...</td>\n",
       "      <td>0.264925</td>\n",
       "      <td>0.034115</td>\n",
       "      <td>0.014009</td>\n",
       "      <td>0.386515</td>\n",
       "      <td>0.105180</td>\n",
       "      <td>0.054952</td>\n",
       "      <td>0.088110</td>\n",
       "      <td>0.303568</td>\n",
       "      <td>0.124951</td>\n",
       "      <td>0.0</td>\n",
       "    </tr>\n",
       "  </tbody>\n",
       "</table>\n",
       "<p>5 rows × 31 columns</p>\n",
       "</div>"
      ],
      "text/plain": [
       "   radius_mean  texture_mean  perimeter_mean  area_mean  smoothness_mean  \\\n",
       "0     0.310426      0.157254        0.301776   0.179343         0.407692   \n",
       "1     0.288655      0.202908        0.289130   0.159703         0.495351   \n",
       "2     0.119409      0.092323        0.114367   0.055313         0.449309   \n",
       "3     0.286289      0.294555        0.268261   0.161315         0.335831   \n",
       "4     0.057504      0.241123        0.054730   0.024772         0.301255   \n",
       "\n",
       "   compactness_mean  concavity_mean  concave.points_mean  symmetry_mean  \\\n",
       "0          0.189896        0.156139             0.237624       0.416667   \n",
       "1          0.330102        0.107029             0.154573       0.458081   \n",
       "2          0.139685        0.069260             0.103181       0.381313   \n",
       "3          0.056070        0.060028             0.145278       0.205556   \n",
       "4          0.122845        0.037207             0.029409       0.358081   \n",
       "\n",
       "   fractal_dimension_mean   ...     texture_worst  perimeter_worst  \\\n",
       "0                0.162174   ...          0.192964         0.245480   \n",
       "1                0.382266   ...          0.225746         0.227501   \n",
       "2                0.402064   ...          0.097015         0.073310   \n",
       "3                0.182603   ...          0.287580         0.169580   \n",
       "4                0.317397   ...          0.264925         0.034115   \n",
       "\n",
       "   area_worst  smoothness_worst  compactness_worst  concavity_worst  \\\n",
       "0    0.129276          0.480948           0.145540         0.190895   \n",
       "1    0.109443          0.396421           0.242852         0.150958   \n",
       "2    0.031877          0.404345           0.084903         0.070823   \n",
       "3    0.088650          0.170640           0.018337         0.038602   \n",
       "4    0.014009          0.386515           0.105180         0.054952   \n",
       "\n",
       "   concave.points_worst  symmetry_worst  fractal_dimension_worst  outlier  \n",
       "0              0.442612        0.278336                 0.115112      0.0  \n",
       "1              0.250275        0.319141                 0.175718      0.0  \n",
       "2              0.213986        0.174453                 0.148826      0.0  \n",
       "3              0.172268        0.083185                 0.043618      0.0  \n",
       "4              0.088110        0.303568                 0.124951      0.0  \n",
       "\n",
       "[5 rows x 31 columns]"
      ]
     },
     "execution_count": 2,
     "metadata": {},
     "output_type": "execute_result"
    }
   ],
   "source": [
    "mat = scipy.io.loadmat('./data/wbc.mat')\n",
    "wbc_df = pd.DataFrame(np.hstack((mat['X'], mat['y'])))\n",
    "wbc_df.columns = [\"radius_mean\", \"texture_mean\",\"perimeter_mean\", \"area_mean\", \"smoothness_mean\", \"compactness_mean\", \n",
    "                  \"concavity_mean\", \"concave.points_mean\", \"symmetry_mean\", \"fractal_dimension_mean\", \n",
    "                  \"radius_se\", \"texture_se\",\"perimeter_se\", \"area_se\", \"smoothness_se\", \"compactness_se\", \n",
    "                  \"concavity_se\", \"concave.points_se\", \"symmetry_se\", \"fractal_dimension_se\", \n",
    "                  \"radius_worst\", \"texture_worst\",\"perimeter_worst\", \"area_worst\", \"smoothness_worst\", \n",
    "                  \"compactness_worst\", \"concavity_worst\", \"concave.points_worst\", \"symmetry_worst\", \n",
    "                  \"fractal_dimension_worst\",\n",
    "                  \"outlier\"]\n",
    "wbc_df.head()"
   ]
  },
  {
   "cell_type": "code",
   "execution_count": 3,
   "metadata": {},
   "outputs": [
    {
     "data": {
      "text/plain": [
       "(378, 31)"
      ]
     },
     "execution_count": 3,
     "metadata": {},
     "output_type": "execute_result"
    }
   ],
   "source": [
    "wbc_df.shape"
   ]
  },
  {
   "cell_type": "markdown",
   "metadata": {},
   "source": [
    "Train-Test split, 80%-20%"
   ]
  },
  {
   "cell_type": "code",
   "execution_count": 4,
   "metadata": {},
   "outputs": [
    {
     "name": "stderr",
     "output_type": "stream",
     "text": [
      "/home/nisha/anaconda2/envs/lime/lib/python3.6/site-packages/sklearn/model_selection/_split.py:2069: FutureWarning: From version 0.21, test_size will always complement train_size unless both are specified.\n",
      "  FutureWarning)\n"
     ]
    }
   ],
   "source": [
    "from sklearn.model_selection import train_test_split\n",
    "train, test, labels_train, labels_test = train_test_split(wbc_df.loc[:, wbc_df.columns != 'outlier'], wbc_df['outlier'], train_size=0.80, random_state=123)"
   ]
  },
  {
   "cell_type": "markdown",
   "metadata": {},
   "source": [
    "Training model"
   ]
  },
  {
   "cell_type": "code",
   "execution_count": 5,
   "metadata": {},
   "outputs": [
    {
     "data": {
      "text/plain": [
       "RandomForestClassifier(bootstrap=True, class_weight=None, criterion='gini',\n",
       "            max_depth=None, max_features='auto', max_leaf_nodes=None,\n",
       "            min_impurity_decrease=0.0, min_impurity_split=None,\n",
       "            min_samples_leaf=1, min_samples_split=2,\n",
       "            min_weight_fraction_leaf=0.0, n_estimators=500, n_jobs=None,\n",
       "            oob_score=False, random_state=None, verbose=0,\n",
       "            warm_start=False)"
      ]
     },
     "execution_count": 5,
     "metadata": {},
     "output_type": "execute_result"
    }
   ],
   "source": [
    "rf = sklearn.ensemble.RandomForestClassifier(n_estimators=500)\n",
    "rf.fit(train, labels_train)"
   ]
  },
  {
   "cell_type": "code",
   "execution_count": 6,
   "metadata": {},
   "outputs": [
    {
     "data": {
      "text/plain": [
       "0.9473684210526315"
      ]
     },
     "execution_count": 6,
     "metadata": {},
     "output_type": "execute_result"
    }
   ],
   "source": [
    "sklearn.metrics.accuracy_score(labels_test, rf.predict(test))"
   ]
  },
  {
   "cell_type": "markdown",
   "metadata": {},
   "source": [
    "The overall feature importance plot"
   ]
  },
  {
   "cell_type": "code",
   "execution_count": 7,
   "metadata": {},
   "outputs": [
    {
     "data": {
      "image/png": "[encoded data removed]",
      "text/plain": [
       "<Figure size 432x288 with 1 Axes>"
      ]
     },
     "metadata": {
      "needs_background": "light"
     },
     "output_type": "display_data"
    }
   ],
   "source": [
    "features = train.columns\n",
    "importances = rf.feature_importances_\n",
    "indices = np.argsort(importances)\n",
    "plt.title('Feature Importances')\n",
    "plt.barh(range(len(indices)), importances[indices], color='g', align='center')\n",
    "plt.yticks(range(len(indices)), [features[i] for i in indices])\n",
    "plt.xlabel('Relative Importance')\n",
    "plt.show()"
   ]
  },
  {
   "cell_type": "markdown",
   "metadata": {},
   "source": [
    "## Create the explainer\n",
    "Creating a tabular explainer for the training set."
   ]
  },
  {
   "cell_type": "code",
   "execution_count": 8,
   "metadata": {},
   "outputs": [],
   "source": [
    "explainer = lime.lime_tabular.LimeTabularExplainer(train, feature_names=train.columns, \n",
    "                                                   class_names=['benign', 'malignant'], \n",
    "                                                   discretize_continuous=False)"
   ]
  },
  {
   "cell_type": "markdown",
   "metadata": {},
   "source": [
    "## Explaining an instance\n",
    "Since this is a binary-class classification problem, it explains the class with the top probability by default."
   ]
  },
  {
   "cell_type": "code",
   "execution_count": 9,
   "metadata": {},
   "outputs": [
    {
     "data": {
      "text/plain": [
       "[('perimeter_worst', 0.022720254025040878),\n",
       " ('concave.points_worst', 0.018522188321386655),\n",
       " ('area_worst', 0.016098210118724626),\n",
       " ('radius_worst', 0.015352130047039846),\n",
       " ('perimeter_mean', 0.011558973112324511),\n",
       " ('area_mean', 0.009067645714423162),\n",
       " ('radius_mean', 0.006912355430688037),\n",
       " ('texture_worst', 0.006149303624562476),\n",
       " ('texture_mean', 0.004018357172950036),\n",
       " ('compactness_worst', 0.0037636744981734594)]"
      ]
     },
     "execution_count": 9,
     "metadata": {},
     "output_type": "execute_result"
    }
   ],
   "source": [
    "# i = np.random.randint(0, test.shape[0])\n",
    "i = 1\n",
    "exp = explainer.explain_instance(test.values[i], rf.predict_proba)\n",
    "exp.as_list()"
   ]
  },
  {
   "cell_type": "code",
   "execution_count": 10,
   "metadata": {},
   "outputs": [
    {
     "data": {
      "image/png": "[encoded data removed]",
      "text/plain": [
       "<Figure size 432x288 with 1 Axes>"
      ]
     },
     "execution_count": 10,
     "metadata": {},
     "output_type": "execute_result"
    },
    {
     "data": {
      "image/png": "[encoded data removed]",
      "text/plain": [
       "<Figure size 432x288 with 1 Axes>"
      ]
     },
     "metadata": {
      "needs_background": "light"
     },
     "output_type": "display_data"
    }
   ],
   "source": [
    "exp.as_pyplot_figure()"
   ]
  },
  {
   "cell_type": "markdown",
   "metadata": {},
   "source": [
    "### Explaining another instance\n",
    "Another example, notice how the explanations vary depending on the example you select. In the case below, 'concave.points_worst' has a higher contribution for being an outlier."
   ]
  },
  {
   "cell_type": "code",
   "execution_count": 11,
   "metadata": {},
   "outputs": [
    {
     "data": {
      "text/plain": [
       "[('perimeter_worst', 0.022720216173161386),\n",
       " ('concave.points_worst', 0.02069493305848242),\n",
       " ('area_worst', 0.015157578451854697),\n",
       " ('radius_worst', 0.014347605399125704),\n",
       " ('concave.points_mean', 0.013738308920260504),\n",
       " ('concavity_mean', 0.00983069670383219),\n",
       " ('area_mean', 0.00877775348355768),\n",
       " ('perimeter_mean', 0.007723505731351466),\n",
       " ('radius_mean', 0.0072604299945275745),\n",
       " ('concavity_worst', 0.002616168754160644)]"
      ]
     },
     "execution_count": 11,
     "metadata": {},
     "output_type": "execute_result"
    }
   ],
   "source": [
    "i=61 # another malignant tumour example\n",
    "exp = explainer.explain_instance(test.values[i], rf.predict_proba)\n",
    "exp.as_list()"
   ]
  },
  {
   "cell_type": "code",
   "execution_count": null,
   "metadata": {},
   "outputs": [],
   "source": []
  }
 ],
 "metadata": {
  "kernelspec": {
   "display_name": "Python [conda env:lime]",
   "language": "python",
   "name": "conda-env-lime-py"
  },
  "language_info": {
   "codemirror_mode": {
    "name": "ipython",
    "version": 3
   },
   "file_extension": ".py",
   "mimetype": "text/x-python",
   "name": "python",
   "nbconvert_exporter": "python",
   "pygments_lexer": "ipython3",
   "version": "3.6.6"
  }
 },
 "nbformat": 4,
 "nbformat_minor": 2
}
